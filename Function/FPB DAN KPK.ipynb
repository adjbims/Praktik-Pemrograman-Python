{
 "cells": [
  {
   "cell_type": "code",
   "execution_count": null,
   "id": "568a3662",
   "metadata": {},
   "outputs": [
    {
     "name": "stdout",
     "output_type": "stream",
     "text": [
      "==== Program Perhitungan ====\n",
      "1. KPK\n",
      "2. FPB\n",
      "3. Exit\n",
      "Pilih menu : 1\n",
      "Masukkan angka pertama : 111\n",
      "Masukkan angka kedua   : 222\n",
      "KPK dari  111  dan  222  adalah  222 \n",
      "\n",
      "==== Program Perhitungan ====\n",
      "1. KPK\n",
      "2. FPB\n",
      "3. Exit\n",
      "Pilih menu : 2\n",
      "Masukkan angka pertama : 123\n",
      "Masukkan angka kedua   : 321\n",
      "FPB dari  123  dan  321  adalah  3\n",
      "==== Program Perhitungan ====\n",
      "1. KPK\n",
      "2. FPB\n",
      "3. Exit\n"
     ]
    }
   ],
   "source": [
    "#Fungsi untuk mencari FPB\n",
    "def FPB(a,b):\n",
    "    if a<b:\n",
    "        smaller=a\n",
    "    else:\n",
    "        smaller=b\n",
    "    for i in range (1,smaller+1):\n",
    "        if a%i==0 and b%i==0:\n",
    "            FPB=i\n",
    "    return FPB\n",
    "\n",
    "#Fungsi untuk mencari KPK\n",
    "def KPK(a,b):\n",
    "    KPK=int(a*b/FPB(a,b))\n",
    "    return KPK\n",
    "\n",
    "#Fungsi untuk memilih menu\n",
    "def show_menu():\n",
    "    print(\"==== Program Perhitungan ====\")\n",
    "    print(\"1. KPK\")\n",
    "    print(\"2. FPB\")\n",
    "    print(\"3. Exit\")\n",
    "    menu = input(\"Pilih menu : \")\n",
    "\n",
    "    if menu == \"1\": #Pilihan untuk menghitung KPK\n",
    "        a = int(input('Masukkan angka pertama : '))\n",
    "        b = int(input('Masukkan angka kedua   : '))\n",
    "        print('KPK dari ',a,' dan ',b,' adalah ',KPK(a,b),'\\n') #Untuk mencetak hasil perhitungan KPK\n",
    "    elif menu == \"2\": #Pilihan untuk menghitung FPB\n",
    "        a = int(input('Masukkan angka pertama : '))\n",
    "        b = int(input('Masukkan angka kedua   : '))\n",
    "        print('FPB dari ',a,' dan ',b,' adalah ',FPB(a,b)) #Untuk mencetak hasil perhitungan FPB\n",
    "    elif menu == \"3\": #Pilihan untuk selesai\n",
    "        exit()\n",
    "    else:\n",
    "        print(\"Menu tidak tersedia!\") #Pilihan menu yang tidak tersedia ketika memasukkan angka selain 1-3 \n",
    "\n",
    "if __name__ == \"__main__\": #Untuk perulangan menampilkan pilihan menu\n",
    "    while(True):\n",
    "        show_menu()"
   ]
  },
  {
   "cell_type": "code",
   "execution_count": null,
   "id": "f2419030",
   "metadata": {},
   "outputs": [],
   "source": []
  },
  {
   "cell_type": "code",
   "execution_count": null,
   "id": "347a4283",
   "metadata": {},
   "outputs": [],
   "source": []
  }
 ],
 "metadata": {
  "kernelspec": {
   "display_name": "Python 3 (ipykernel)",
   "language": "python",
   "name": "python3"
  },
  "language_info": {
   "codemirror_mode": {
    "name": "ipython",
    "version": 3
   },
   "file_extension": ".py",
   "mimetype": "text/x-python",
   "name": "python",
   "nbconvert_exporter": "python",
   "pygments_lexer": "ipython3",
   "version": "3.9.12"
  }
 },
 "nbformat": 4,
 "nbformat_minor": 5
}
