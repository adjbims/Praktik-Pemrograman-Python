{
 "cells": [
  {
   "cell_type": "code",
   "execution_count": 6,
   "id": "44f524af",
   "metadata": {},
   "outputs": [
    {
     "name": "stdout",
     "output_type": "stream",
     "text": [
      "Jumlah huruf dari nama (Bimo Adji Kusnadi) adalah :  15\n",
      "Jumlah huruf vokal dari nama (Bimo Adji Kusnadi) adalah :  7\n",
      "Jumlah huruf konsonan dari nama (Bimo Adji Kusnadi) adalah :  8\n"
     ]
    }
   ],
   "source": [
    "nama = \"Bimo Adji Kusnadi\"\n",
    "\n",
    "#Menghitung jumlah huruf dari nama lengkap\n",
    "jumlah_huruf = len(nama.replace(\" \",\"\"))\n",
    "print(\"Jumlah huruf dari nama (Bimo Adji Kusnadi) adalah : \", jumlah_huruf)\n",
    "\n",
    "# Menghitung jumlah huruf vokal dari nama lengkap\n",
    "huruf_vokal = \"aiueoAIUEO\"\n",
    "jumlah_vokal = len([char for char in nama if char in huruf_vokal])\n",
    "print(\"Jumlah huruf vokal dari nama (Bimo Adji Kusnadi) adalah : \", jumlah_vokal)\n",
    "\n",
    "# Menghitung jumlah huruf konsonan dari nama lengkap\n",
    "huruf_konsonan = \"bcdfghjklmnpqrstvwxyzBCDFGHJKLMNPQRSTVWXYZ\"\n",
    "jumlah_konsonan = len([huruf for huruf in nama if huruf in huruf_konsonan])\n",
    "\n",
    "print(\"Jumlah huruf konsonan dari nama (Bimo Adji Kusnadi) adalah : \", jumlah_konsonan)"
   ]
  }
 ],
 "metadata": {
  "kernelspec": {
   "display_name": "Python 3 (ipykernel)",
   "language": "python",
   "name": "python3"
  },
  "language_info": {
   "codemirror_mode": {
    "name": "ipython",
    "version": 3
   },
   "file_extension": ".py",
   "mimetype": "text/x-python",
   "name": "python",
   "nbconvert_exporter": "python",
   "pygments_lexer": "ipython3",
   "version": "3.9.12"
  }
 },
 "nbformat": 4,
 "nbformat_minor": 5
}
