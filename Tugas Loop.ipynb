{
 "cells": [
  {
   "cell_type": "code",
   "execution_count": 3,
   "id": "dda3750f",
   "metadata": {},
   "outputs": [
    {
     "name": "stdout",
     "output_type": "stream",
     "text": [
      "MASUKKAN PANJANG DERETNYA : 10\n",
      "\n",
      "0 1 \n",
      "0 1 1 \n",
      "0 1 1 2 \n",
      "0 1 1 2 3 \n",
      "0 1 1 2 3 5 \n",
      "0 1 1 2 3 5 8 \n",
      "0 1 1 2 3 5 8 13 \n",
      "0 1 1 2 3 5 8 13 21 \n",
      "0 1 1 2 3 5 8 13 21 34 \n"
     ]
    }
   ],
   "source": [
    "panjang = int(input(\"MASUKKAN PANJANG DERETNYA : \"))\n",
    "print(\"\")\n",
    "\n",
    "fibo = [0,1]\n",
    "\n",
    "for i in range(2, panjang):\n",
    "    angka1 = fibo[i - 2]\n",
    "    angka2 = fibo[i - 1]\n",
    "    angkaSelanjutnya = angka1 + angka2\n",
    "    \n",
    "    fibo.append(angkaSelanjutnya)\n",
    "\n",
    "for i in range(1, panjang):\n",
    "    for j in range(0, i+1):\n",
    "        print(fibo[j], end=\" \")\n",
    "    print()"
   ]
  },
  {
   "cell_type": "code",
   "execution_count": null,
   "id": "9d2c7734",
   "metadata": {},
   "outputs": [],
   "source": []
  }
 ],
 "metadata": {
  "kernelspec": {
   "display_name": "Python 3 (ipykernel)",
   "language": "python",
   "name": "python3"
  },
  "language_info": {
   "codemirror_mode": {
    "name": "ipython",
    "version": 3
   },
   "file_extension": ".py",
   "mimetype": "text/x-python",
   "name": "python",
   "nbconvert_exporter": "python",
   "pygments_lexer": "ipython3",
   "version": "3.9.12"
  }
 },
 "nbformat": 4,
 "nbformat_minor": 5
}
